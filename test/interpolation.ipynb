{
 "cells": [
  {
   "cell_type": "code",
   "execution_count": 9,
   "metadata": {},
   "outputs": [],
   "source": [
    "import itertools\n",
    "import numpy as np"
   ]
  },
  {
   "cell_type": "code",
   "execution_count": 56,
   "metadata": {},
   "outputs": [],
   "source": [
    "setup = {\n",
    "    \"variables\": {\n",
    "            \"dayOfTheYear\": {\"min\": 0, \"max\": 365, \"step\": 10},\n",
    "            \"temperature\": {\"min\": 10, \"max\": 30, \"step\": 1},\n",
    "            \"irrdiance\": {\"min\": 10, \"max\": 30, \"step\": 1},\n",
    "            \"pressure\": {\"min\": 10, \"max\": 30, \"step\": 1},\n",
    "            \"rainfall\": 3.830795359959049,\n",
    "            \"windspeed\": 1,\n",
    "            \"windangle\": 1\n",
    "        }\n",
    "}"
   ]
  },
  {
   "cell_type": "code",
   "execution_count": 57,
   "metadata": {},
   "outputs": [],
   "source": [
    "changingVars = []\n",
    "for variable in setup[\"variables\"].keys():\n",
    "    if type(setup[\"variables\"][variable]) == dict:\n",
    "        changingVars.append(variable)"
   ]
  },
  {
   "cell_type": "code",
   "execution_count": 58,
   "metadata": {
    "scrolled": true
   },
   "outputs": [
    {
     "name": "stdout",
     "output_type": "stream",
     "text": [
      "[[0, 10, 20, 30, 40, 50, 60, 70, 80, 90, 100, 110, 120, 130, 140, 150, 160, 170, 180, 190, 200, 210, 220, 230, 240, 250, 260, 270, 280, 290, 300, 310, 320, 330, 340, 350, 360], [10, 11, 12, 13, 14, 15, 16, 17, 18, 19, 20, 21, 22, 23, 24, 25, 26, 27, 28, 29], [10, 11, 12, 13, 14, 15, 16, 17, 18, 19, 20, 21, 22, 23, 24, 25, 26, 27, 28, 29], [10, 11, 12, 13, 14, 15, 16, 17, 18, 19, 20, 21, 22, 23, 24, 25, 26, 27, 28, 29]]\n"
     ]
    }
   ],
   "source": [
    "# Calculate the variables that need to be changed\n",
    "vals = []\n",
    "for varIndex, var in enumerate(changingVars):\n",
    "    valRanges = setup[\"variables\"][var]\n",
    "    vals.append(list(range(valRanges[\"min\"], valRanges[\"max\"], valRanges[\"step\"])))\n",
    "\n",
    "print(vals)"
   ]
  },
  {
   "cell_type": "code",
   "execution_count": 59,
   "metadata": {},
   "outputs": [],
   "source": [
    "combinations = list(itertools.product(*vals))"
   ]
  },
  {
   "cell_type": "code",
   "execution_count": 60,
   "metadata": {},
   "outputs": [
    {
     "data": {
      "text/plain": [
       "array([[  0,  10,  10,  10],\n",
       "       [  0,  10,  10,  11],\n",
       "       [  0,  10,  10,  12],\n",
       "       ...,\n",
       "       [360,  29,  29,  27],\n",
       "       [360,  29,  29,  28],\n",
       "       [360,  29,  29,  29]])"
      ]
     },
     "execution_count": 60,
     "metadata": {},
     "output_type": "execute_result"
    }
   ],
   "source": [
    "a = []\n",
    "for combinationIndex, combination in enumerate(combinations):\n",
    "    a.append(combination)\n",
    "test = np.array(a)\n",
    "test.reshape(list((len(val) for val in vals)).append(len(vals)))"
   ]
  },
  {
   "cell_type": "code",
   "execution_count": 61,
   "metadata": {},
   "outputs": [
    {
     "data": {
      "text/plain": [
       "array([ 0, 10, 10, 10])"
      ]
     },
     "execution_count": 61,
     "metadata": {},
     "output_type": "execute_result"
    }
   ],
   "source": [
    "test[0] "
   ]
  },
  {
   "cell_type": "code",
   "execution_count": null,
   "metadata": {},
   "outputs": [],
   "source": []
  }
 ],
 "metadata": {
  "kernelspec": {
   "display_name": "Python 3",
   "language": "python",
   "name": "python3"
  },
  "language_info": {
   "codemirror_mode": {
    "name": "ipython",
    "version": 3
   },
   "file_extension": ".py",
   "mimetype": "text/x-python",
   "name": "python",
   "nbconvert_exporter": "python",
   "pygments_lexer": "ipython3",
   "version": "3.6.5"
  }
 },
 "nbformat": 4,
 "nbformat_minor": 2
}
