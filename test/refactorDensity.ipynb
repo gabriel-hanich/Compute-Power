{
 "cells": [
  {
   "cell_type": "code",
   "execution_count": 1,
   "metadata": {},
   "outputs": [],
   "source": [
    "import PIL\n",
    "from PIL import Image\n",
    "import numpy as np"
   ]
  },
  {
   "cell_type": "code",
   "execution_count": 2,
   "metadata": {},
   "outputs": [],
   "source": [
    "safeColors = [[254, 255, 178, 255]]"
   ]
  },
  {
   "cell_type": "code",
   "execution_count": 3,
   "metadata": {},
   "outputs": [],
   "source": [
    "img = Image.open(\"C:/Users/gabri/Documents/GitHub/Compute-Power/test/data/resizedPopulationDensity.png\")\n",
    "img = img.convert('RGBA')"
   ]
  },
  {
   "cell_type": "code",
   "execution_count": 4,
   "metadata": {},
   "outputs": [],
   "source": [
    "data = np.array(img)   # \"data\" is a height x width x 4 numpy array\n",
    "red, green, blue, alpha = data.T # Temporarily unpack the bands for readability"
   ]
  },
  {
   "cell_type": "code",
   "execution_count": 5,
   "metadata": {},
   "outputs": [],
   "source": [
    "for column in range(data.shape[0]):\n",
    "    for row in range(data.shape[1]):\n",
    "        if list(data[column][row]) not in safeColors:\n",
    "            data[column][row] = [0,0,0,0]\n",
    "#         if list(data[column][row]) == [255, 255, 255, 255]:\n",
    "#             data[column][row] = [0,0,0,0]\n",
    "#         elif list(data[column][row]) == [130,130,130,255]:\n",
    "#             data[column][row] = [0,0,0,0]\n",
    "#         elif list(data[column][row]) == [246,246,246,255]:\n",
    "#             data[column][row] = [0,0,0,0]\n",
    "#         elif list(data[column][row]) == [132, 132, 132, 255]:\n",
    "#             data[column][row] = [0,0,0,0]\n",
    "        "
   ]
  },
  {
   "cell_type": "code",
   "execution_count": 6,
   "metadata": {},
   "outputs": [],
   "source": [
    "img = Image.fromarray(data, 'RGBA')\n",
    "img.show()"
   ]
  }
 ],
 "metadata": {
  "kernelspec": {
   "display_name": "Python 3",
   "language": "python",
   "name": "python3"
  },
  "language_info": {
   "codemirror_mode": {
    "name": "ipython",
    "version": 3
   },
   "file_extension": ".py",
   "mimetype": "text/x-python",
   "name": "python",
   "nbconvert_exporter": "python",
   "pygments_lexer": "ipython3",
   "version": "3.6.5"
  }
 },
 "nbformat": 4,
 "nbformat_minor": 2
}
