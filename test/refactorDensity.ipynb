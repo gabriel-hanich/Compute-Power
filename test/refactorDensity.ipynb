{
 "cells": [
  {
   "cell_type": "code",
   "execution_count": 3,
   "metadata": {},
   "outputs": [],
   "source": [
    "# Convert density data into relative density for NSW\n",
    "import matplotlib.pyplot as plt\n",
    "import matplotlib.path as mplPath\n",
    "import numpy as np\n",
    "import math\n",
    "from valueMaps import ValueMap\n",
    "from func import readGridDataFromFile"
   ]
  },
  {
   "cell_type": "code",
   "execution_count": 10,
   "metadata": {},
   "outputs": [],
   "source": [
    "%matplotlib qt "
   ]
  },
  {
   "cell_type": "code",
   "execution_count": 5,
   "metadata": {},
   "outputs": [],
   "source": [
    "# Read data from file\n",
    "path = \"data/density/compressedDensity.grid\"\n",
    "gridData = readGridDataFromFile(path)"
   ]
  },
  {
   "cell_type": "code",
   "execution_count": 8,
   "metadata": {},
   "outputs": [],
   "source": [
    "# Plot the data to validate that it is correct\n",
    "densityVals = ValueMap(\n",
    "    gridData[\"gridSize\"], \n",
    "    gridData[\"southWestPos\"],\n",
    "    gridData[\"cellSize\"], \n",
    "    gridData[\"noDataVal\"], \n",
    "    \"count\")\n",
    "densityVals.setGridData(gridData[\"mapData\"])\n",
    "densityVals.plot('Greys')"
   ]
  },
  {
   "cell_type": "code",
   "execution_count": 16,
   "metadata": {},
   "outputs": [],
   "source": [
    "# The Latitude and Longitude of various points across the NSW border\n",
    "nswBorderPoints = [\n",
    "    [28.999014352205922, 140.9993494279817],\n",
    "    [28.057293320642973, 153.87103302178923],\n",
    "    [31.447438255957756, 152.9098433117254],\n",
    "    [34.117047620552384, 153.12025126577333],\n",
    "    [37.50468611996401, 149.97608352795447],\n",
    "    [34.02196838933478, 141.00295915566463],\n",
    "]\n",
    "\n",
    "# Convert each of the lat/long to array indexes\n",
    "borderPath = np.empty((len(nswBorderPoints),2))\n",
    "for pointIndex, point in enumerate(nswBorderPoints):\n",
    "    borderPath[pointIndex][0] = (densityVals.getCoord(point[0], point[1]))[0]\n",
    "    borderPath[pointIndex][1] = (densityVals.getCoord(point[0], point[1]))[1]"
   ]
  },
  {
   "cell_type": "code",
   "execution_count": 20,
   "metadata": {},
   "outputs": [
    {
     "name": "stdout",
     "output_type": "stream",
     "text": [
      "The total population of NSW is 8,170,626.64069201\n"
     ]
    }
   ],
   "source": [
    "# Calculate the total population of NSW+ACT\n",
    "totalPopulation = 0\n",
    "\n",
    "processingPoints = gridData[\"mapData\"].copy()\n",
    "polyPath = mplPath.Path(borderPath)\n",
    "for rowIndex in range(processingPoints.shape[0]):\n",
    "    for columnIndex in range(processingPoints.shape[1]):\n",
    "        if(polyPath.contains_point([columnIndex, rowIndex])):\n",
    "            totalPopulation += processingPoints[rowIndex][columnIndex]\n",
    "            \n",
    "print(f\"The total population of NSW is {totalPopulation:,}\")"
   ]
  },
  {
   "cell_type": "code",
   "execution_count": 23,
   "metadata": {},
   "outputs": [],
   "source": [
    "# Divide each value in the grid by the total population\n",
    "for rowIndex in range(processingPoints.shape[0]):\n",
    "    for columnIndex in range(processingPoints.shape[1]):\n",
    "        processingPoints[rowIndex][columnIndex] = processingPoints[rowIndex][columnIndex] / totalPopulation"
   ]
  },
  {
   "cell_type": "code",
   "execution_count": 25,
   "metadata": {},
   "outputs": [
    {
     "name": "stdout",
     "output_type": "stream",
     "text": [
      "Writing line 100/455\n",
      "Writing line 200/455\n",
      "Writing line 300/455\n",
      "Writing line 400/455\n"
     ]
    }
   ],
   "source": [
    "# Write to file\n",
    "densityVals.setGridData(processingPoints)\n",
    "densityVals.writeToFile(\"data/density/normalizedDensity.grid\")\n",
    "densityVals.plot('Greys')"
   ]
  }
 ],
 "metadata": {
  "kernelspec": {
   "display_name": "Python 3",
   "language": "python",
   "name": "python3"
  },
  "language_info": {
   "codemirror_mode": {
    "name": "ipython",
    "version": 3
   },
   "file_extension": ".py",
   "mimetype": "text/x-python",
   "name": "python",
   "nbconvert_exporter": "python",
   "pygments_lexer": "ipython3",
   "version": "3.6.5"
  }
 },
 "nbformat": 4,
 "nbformat_minor": 2
}
