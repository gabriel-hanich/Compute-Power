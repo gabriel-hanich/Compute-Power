{
 "cells": [
  {
   "cell_type": "code",
   "execution_count": 1,
   "metadata": {},
   "outputs": [],
   "source": [
    "import matplotlib.pyplot as plt\n",
    "import matplotlib.path as mplPath\n",
    "import numpy as np\n",
    "import math\n",
    "from valueMaps import ValueMap\n",
    "from func import readGridDataFromFile\n",
    "from datetime import datetime, timedelta"
   ]
  },
  {
   "cell_type": "code",
   "execution_count": 2,
   "metadata": {},
   "outputs": [],
   "source": [
    "def getDateList(startDate, endDate, delta=1):\n",
    "    # Get a list of dates between 2 dates (inclusive)\n",
    "    dateList = []\n",
    "    currentDate = startDate\n",
    "    while currentDate <= endDate:\n",
    "        dateList.append(currentDate)\n",
    "        currentDate += timedelta(days=delta)\n",
    "    return dateList"
   ]
  },
  {
   "cell_type": "code",
   "execution_count": 3,
   "metadata": {},
   "outputs": [],
   "source": [
    "startDate = \"01/01/2023\"\n",
    "endDate = \"31/12/2023\"\n",
    "\n",
    "startDate = datetime.strptime(startDate, \"%d/%m/%Y\")\n",
    "endDate = datetime.strptime(endDate, \"%d/%m/%Y\")\n",
    "\n",
    "dateList = getDateList(startDate, endDate)"
   ]
  },
  {
   "cell_type": "code",
   "execution_count": 6,
   "metadata": {},
   "outputs": [
    {
     "name": "stdout",
     "output_type": "stream",
     "text": [
      "C:/Users/gabri/Documents/GitHub/Compute-Power/main/data/pressure/01.01.2023.grid\n",
      "C:/Users/gabri/Documents/GitHub/Compute-Power/main/data/pressure/02.01.2023.grid\n",
      "C:/Users/gabri/Documents/GitHub/Compute-Power/main/data/pressure/03.01.2023.grid\n",
      "C:/Users/gabri/Documents/GitHub/Compute-Power/main/data/pressure/04.01.2023.grid\n",
      "C:/Users/gabri/Documents/GitHub/Compute-Power/main/data/pressure/05.01.2023.grid\n",
      "C:/Users/gabri/Documents/GitHub/Compute-Power/main/data/pressure/06.01.2023.grid\n",
      "C:/Users/gabri/Documents/GitHub/Compute-Power/main/data/pressure/07.01.2023.grid\n"
     ]
    },
    {
     "ename": "KeyboardInterrupt",
     "evalue": "",
     "output_type": "error",
     "traceback": [
      "\u001b[1;31m---------------------------------------------------------------------------\u001b[0m",
      "\u001b[1;31mKeyboardInterrupt\u001b[0m                         Traceback (most recent call last)",
      "\u001b[1;32m<ipython-input-6-42a721a7b6fd>\u001b[0m in \u001b[0;36m<module>\u001b[1;34m()\u001b[0m\n\u001b[0;32m      2\u001b[0m     \u001b[0mpath\u001b[0m \u001b[1;33m=\u001b[0m \u001b[1;34mf\"C:/Users/gabri/Documents/GitHub/Compute-Power/main/data/pressure/{date.strftime('%d.%m.%Y')}.grid\"\u001b[0m\u001b[1;33m\u001b[0m\u001b[0m\n\u001b[0;32m      3\u001b[0m     \u001b[0mprint\u001b[0m\u001b[1;33m(\u001b[0m\u001b[0mpath\u001b[0m\u001b[1;33m)\u001b[0m\u001b[1;33m\u001b[0m\u001b[0m\n\u001b[1;32m----> 4\u001b[1;33m     \u001b[0mgridData\u001b[0m \u001b[1;33m=\u001b[0m \u001b[0mreadGridDataFromFile\u001b[0m\u001b[1;33m(\u001b[0m\u001b[0mpath\u001b[0m\u001b[1;33m)\u001b[0m\u001b[1;33m\u001b[0m\u001b[0m\n\u001b[0m\u001b[0;32m      5\u001b[0m     gridVals = ValueMap(\n\u001b[0;32m      6\u001b[0m         \u001b[0mgridData\u001b[0m\u001b[1;33m[\u001b[0m\u001b[1;34m\"gridSize\"\u001b[0m\u001b[1;33m]\u001b[0m\u001b[1;33m,\u001b[0m\u001b[1;33m\u001b[0m\u001b[0m\n",
      "\u001b[1;32m~\\Documents\\GitHub\\Compute-Power\\test\\func.py\u001b[0m in \u001b[0;36mreadGridDataFromFile\u001b[1;34m(path)\u001b[0m\n\u001b[0;32m     44\u001b[0m                     \u001b[0mmapData\u001b[0m\u001b[1;33m[\u001b[0m\u001b[0mrowIndex\u001b[0m\u001b[1;33m]\u001b[0m\u001b[1;33m[\u001b[0m\u001b[0mitemIndex\u001b[0m\u001b[1;33m]\u001b[0m \u001b[1;33m=\u001b[0m \u001b[1;36m0\u001b[0m\u001b[1;33m\u001b[0m\u001b[0m\n\u001b[0;32m     45\u001b[0m                 \u001b[1;32melse\u001b[0m\u001b[1;33m:\u001b[0m\u001b[1;33m\u001b[0m\u001b[0m\n\u001b[1;32m---> 46\u001b[1;33m                     \u001b[0mmapData\u001b[0m\u001b[1;33m[\u001b[0m\u001b[0mrowIndex\u001b[0m\u001b[1;33m]\u001b[0m\u001b[1;33m[\u001b[0m\u001b[0mitemIndex\u001b[0m\u001b[1;33m]\u001b[0m \u001b[1;33m=\u001b[0m \u001b[0mdataVal\u001b[0m\u001b[1;33m\u001b[0m\u001b[0m\n\u001b[0m\u001b[0;32m     47\u001b[0m \u001b[1;33m\u001b[0m\u001b[0m\n\u001b[0;32m     48\u001b[0m             \u001b[0mrowIndex\u001b[0m \u001b[1;33m=\u001b[0m \u001b[0mrowIndex\u001b[0m \u001b[1;33m+\u001b[0m \u001b[1;36m1\u001b[0m\u001b[1;33m\u001b[0m\u001b[0m\n",
      "\u001b[1;31mKeyboardInterrupt\u001b[0m: "
     ]
    }
   ],
   "source": [
    "for dateIndex, date in enumerate(dateList):\n",
    "    path = f\"C:/Users/gabri/Documents/GitHub/Compute-Power/main/data/pressure/{date.strftime('%d.%m.%Y')}.grid\"\n",
    "    print(path)\n",
    "    gridData = readGridDataFromFile(path)\n",
    "    gridVals = ValueMap(\n",
    "        gridData[\"gridSize\"], \n",
    "        gridData[\"southWestPos\"],\n",
    "        gridData[\"cellSize\"], \n",
    "        gridData[\"noDataVal\"], \n",
    "        \"none\")\n",
    "\n",
    "    southWestPos = gridData[\"southWestPos\"]\n",
    "    gridSize = gridData[\"gridSize\"]\n",
    "    cellSize = gridData[\"cellSize\"]\n",
    "    gridData[\"mapData\"][0][0] = -5\n",
    "    gridData[\"mapData\"][0][1] = 50\n",
    "    gridVals.setGridData(gridData[\"mapData\"])\n",
    "    \n",
    "#     gridVals.plot('jet', f'./test/temperature/{dateIndex}.png', f'{date.strftime(\"%d/%m/%Y\")} Temperature', 300)\n",
    "#     print(f\"{dateIndex+1}/{len(dateList)}\")"
   ]
  },
  {
   "cell_type": "code",
   "execution_count": null,
   "metadata": {},
   "outputs": [],
   "source": []
  }
 ],
 "metadata": {
  "kernelspec": {
   "display_name": "Python 3",
   "language": "python",
   "name": "python3"
  },
  "language_info": {
   "codemirror_mode": {
    "name": "ipython",
    "version": 3
   },
   "file_extension": ".py",
   "mimetype": "text/x-python",
   "name": "python",
   "nbconvert_exporter": "python",
   "pygments_lexer": "ipython3",
   "version": "3.6.5"
  }
 },
 "nbformat": 4,
 "nbformat_minor": 2
}
