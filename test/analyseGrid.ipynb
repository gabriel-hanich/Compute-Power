{
 "cells": [
  {
   "cell_type": "code",
   "execution_count": 18,
   "metadata": {},
   "outputs": [],
   "source": [
    "import matplotlib.pyplot as plt\n",
    "import numpy as np"
   ]
  },
  {
   "cell_type": "code",
   "execution_count": 19,
   "metadata": {},
   "outputs": [],
   "source": [
    "# Make maptlotlib show graphs in a new window\n",
    "%matplotlib qt "
   ]
  },
  {
   "cell_type": "code",
   "execution_count": 29,
   "metadata": {},
   "outputs": [],
   "source": [
    "import numpy as np\n",
    "import matplotlib.pyplot as plt\n",
    "\n",
    "class ValueMap:\n",
    "    def __init__(self, gridSize, southWestPos, cellSize, noDataVal):\n",
    "        self.gridSize = gridSize\n",
    "        self.southWestPos = southWestPos\n",
    "        self.cellSize = cellSize\n",
    "        self.noDataVal = noDataVal\n",
    "        \n",
    "        self.gridData = np.empty((gridSize[0], gridSize[1]))\n",
    "    \n",
    "    def setGridData(self, gridData):\n",
    "        self.gridData = gridData\n",
    "    \n",
    "    def determineValue(self, lattitude, longitude):\n",
    "        yIndex = self.gridData.shape[0] -  int(abs(lattitude - self.southWestPos[0]) / self.cellSize)\n",
    "        xIndex = int(abs(longitude - self.southWestPos[1]) / self.cellSize)\n",
    "        if yIndex > 0:\n",
    "            yIndex = yIndex - 1\n",
    "        if xIndex > 0:\n",
    "            xIndex = xIndex - 1\n",
    "        print([xIndex, yIndex])\n",
    "        self.gridData[yIndex][xIndex]=25000\n",
    "        return self.gridData[yIndex][xIndex]\n",
    "    \n",
    "    def plot(self, colormap='jet'):\n",
    "        plt.imshow(self.gridData, cmap=colormap, interpolation='nearest')\n",
    "        plt.colorbar()\n",
    "        plt.show()\n",
    "\n",
    "    def writeToFile(self, filePath):\n",
    "        with open(filePath, \"w+\", encoding='utf-8') as outputFile:\n",
    "            header = [\n",
    "                f\"nrows {self.gridData.shape[0]}\",\n",
    "                f\"ncols {self.gridData.shape[1]}\",\n",
    "                f\"cellsize {self.cellSize}\",\n",
    "                f\"nodata_value {self.noDataVal}\",\n",
    "                f\"SOUTHWEST LONGITUDE {self.southWestPos[1]}\",\n",
    "                f\"SOUTHWEST LATITUDE {self.southWestPos[0]}\"\n",
    "            ]\n",
    "\n",
    "            outputFile.writelines([string + '\\n' for string in header])\n",
    "\n",
    "            coordData = []\n",
    "            rowIndex = 0\n",
    "            for row in self.gridData:\n",
    "                thisRow = \"\"\n",
    "                for itemIndex, item in enumerate(row):\n",
    "                    thisRow = thisRow + str(item)\n",
    "                    if(itemIndex + 1 != len(row)):\n",
    "                        thisRow = thisRow + \" \"\n",
    "                    \n",
    "                thisRow = thisRow + \"\\n\"\n",
    "                coordData.append(thisRow)\n",
    "\n",
    "                rowIndex +=1 \n",
    "                if(rowIndex % 100 == 0):\n",
    "                    print(f\"Writing line {rowIndex}/{self.gridData.shape[0]}\")\n",
    "\n",
    "            outputFile.writelines(coordData)\n"
   ]
  },
  {
   "cell_type": "code",
   "execution_count": 20,
   "metadata": {},
   "outputs": [],
   "source": [
    "dataDate = \"10/1/2024\" # Date of the data to be collected in format %D/%M/%Y\n",
    "\n",
    "gridData = []"
   ]
  },
  {
   "cell_type": "code",
   "execution_count": 21,
   "metadata": {},
   "outputs": [],
   "source": [
    "# path = f\"data/solarIradiance/{dataDate.replace('/', '')}.grid\"\n",
    "path = \"data/density.grid\"\n",
    "# path = \"irradianceVals.grid\"\n",
    "with open(path, \"r\", encoding=\"utf-8\") as gridFile:\n",
    "    gridData = gridFile.readlines()\n",
    "    \n",
    "for index, line in enumerate(gridData):\n",
    "    gridData[index] = line.replace(\"\\n\", \"\")"
   ]
  },
  {
   "cell_type": "code",
   "execution_count": 22,
   "metadata": {},
   "outputs": [],
   "source": [
    "gridSize = [-1,-1]\n",
    "southWestPos = [-1,1]\n",
    "cellSize = -1\n",
    "noDataVal = -1\n",
    "for line in gridData:\n",
    "    if \"ncols\" in line:\n",
    "        gridSize[1] = int(line[line.find(\" \")+1:])\n",
    "    if \"nrows\" in line:\n",
    "        gridSize[0] = int(line[line.find(\" \")+1:])\n",
    "    if \"cellsize\" in line:\n",
    "        cellSize = float(line[line.find(\" \")+1:])\n",
    "    if \"nodata_value\" in line:\n",
    "        noDataVal = float(line[line.find(\" \")+1:])\n",
    "    if \"SOUTHWEST LATITUDE\" in line:\n",
    "        line = line.replace(\" \", \"\")\n",
    "        southWestPos[0] = float(line[line.find(\"LATITUDE\")+8:])\n",
    "    if \"SOUTHWEST LONGITUDE\" in line:\n",
    "        line = line.replace(\" \", \"\")\n",
    "        southWestPos[1] = float(line[line.find(\"LONGITUDE\")+9:])\n",
    "\n",
    "        "
   ]
  },
  {
   "cell_type": "code",
   "execution_count": 40,
   "metadata": {
    "scrolled": false
   },
   "outputs": [],
   "source": [
    "# Put grid data into a np array\n",
    "mapData = np.empty((gridSize[0], gridSize[1]))\n",
    "\n",
    "rowIndex = 0 \n",
    "for line in gridData:\n",
    "    row = line.split(\" \")\n",
    "    try:\n",
    "        testVal = float(row[0]) # Ensure that the first value is a float, thus only considering values\n",
    "        for itemIndex, item in enumerate(row):\n",
    "            dataVal = float(item)\n",
    "            if dataVal == -3:\n",
    "                dataVal = 2\n",
    "            elif (dataVal == noDataVal) or (dataVal < 0):\n",
    "                mapData[rowIndex][itemIndex]=0\n",
    "            else:\n",
    "                mapData[rowIndex][itemIndex]=1\n",
    "        \n",
    "        rowIndex = rowIndex + 1\n",
    "    except ValueError:\n",
    "        pass\n",
    "\n"
   ]
  },
  {
   "cell_type": "code",
   "execution_count": 41,
   "metadata": {},
   "outputs": [],
   "source": [
    "irradianceVals = ValueMap(gridSize, southWestPos, cellSize, noDataVal)\n",
    "irradianceVals.setGridData(mapData)"
   ]
  },
  {
   "cell_type": "code",
   "execution_count": 45,
   "metadata": {},
   "outputs": [],
   "source": [
    "irradianceVals.plot(\"gist_yarg\")"
   ]
  },
  {
   "cell_type": "code",
   "execution_count": null,
   "metadata": {},
   "outputs": [],
   "source": []
  }
 ],
 "metadata": {
  "kernelspec": {
   "display_name": "Python 3",
   "language": "python",
   "name": "python3"
  },
  "language_info": {
   "codemirror_mode": {
    "name": "ipython",
    "version": 3
   },
   "file_extension": ".py",
   "mimetype": "text/x-python",
   "name": "python",
   "nbconvert_exporter": "python",
   "pygments_lexer": "ipython3",
   "version": "3.6.5"
  }
 },
 "nbformat": 4,
 "nbformat_minor": 2
}
