{
 "cells": [
  {
   "cell_type": "code",
   "execution_count": 1,
   "metadata": {},
   "outputs": [],
   "source": [
    "import matplotlib.pyplot as plt\n",
    "import numpy as np\n",
    "import math\n",
    "from valueMaps import ValueMap"
   ]
  },
  {
   "cell_type": "code",
   "execution_count": 2,
   "metadata": {},
   "outputs": [],
   "source": [
    "def scaleDownArray(array):\n",
    "    offsets = [-1,0,1]\n",
    "    \n",
    "    smallArray = np.empty((round(array.shape[0]/3), round(array.shape[1]/3)))\n",
    "    largeArray = array.copy()\n",
    "    for rowIndex in range(math.floor(largeArray.shape[0] / 3)):\n",
    "        for columnIndex in range(math.floor(largeArray.shape[1]/3)):\n",
    "            val = 0\n",
    "            for i in offsets:\n",
    "                for j in offsets:\n",
    "                    val = val + largeArray[(rowIndex)*3+i+1][(columnIndex)*3+j+1]\n",
    "            smallArray[rowIndex][columnIndex] = val\n",
    "    return smallArray"
   ]
  },
  {
   "cell_type": "code",
   "execution_count": 3,
   "metadata": {},
   "outputs": [],
   "source": [
    "# Make maptlotlib show graphs in a new window\n",
    "%matplotlib qt "
   ]
  },
  {
   "cell_type": "code",
   "execution_count": 4,
   "metadata": {},
   "outputs": [],
   "source": [
    "dataDate = \"10/1/2024\" # Date of the data to be collected in format %D/%M/%Y\n",
    "\n",
    "gridData = []"
   ]
  },
  {
   "cell_type": "code",
   "execution_count": 5,
   "metadata": {},
   "outputs": [],
   "source": [
    "# path = f\"data/solarIradiance/{dataDate.replace('/', '')}.grid\"\n",
    "# path = \"data/density.grid\"\n",
    "path = \"data/compressedDensity.grid\"\n",
    "with open(path, \"r\", encoding=\"utf-8\") as gridFile:\n",
    "    gridData = gridFile.readlines()\n",
    "    \n",
    "for index, line in enumerate(gridData):\n",
    "    gridData[index] = line.replace(\"\\n\", \"\")"
   ]
  },
  {
   "cell_type": "code",
   "execution_count": 6,
   "metadata": {},
   "outputs": [],
   "source": [
    "gridSize = [-1,-1]\n",
    "southWestPos = [-1,1]\n",
    "cellSize = -1\n",
    "noDataVal = -1\n",
    "for line in gridData:\n",
    "    if \"ncols\" in line:\n",
    "        gridSize[1] = int(line[line.find(\" \")+1:])\n",
    "    if \"nrows\" in line:\n",
    "        gridSize[0] = int(line[line.find(\" \")+1:])\n",
    "    if \"cellsize\" in line:\n",
    "        cellSize = float(line[line.find(\" \")+1:])\n",
    "    if \"nodata_value\" in line:\n",
    "        noDataVal = float(line[line.find(\" \")+1:])\n",
    "    if \"SOUTHWEST LATITUDE\" in line:\n",
    "        line = line.replace(\" \", \"\")\n",
    "        southWestPos[0] = float(line[line.find(\"LATITUDE\")+8:])\n",
    "    if \"SOUTHWEST LONGITUDE\" in line:\n",
    "        line = line.replace(\" \", \"\")\n",
    "        southWestPos[1] = float(line[line.find(\"LONGITUDE\")+9:])\n",
    "\n",
    "        "
   ]
  },
  {
   "cell_type": "code",
   "execution_count": 17,
   "metadata": {
    "scrolled": false
   },
   "outputs": [],
   "source": [
    "# Put grid data into a np array\n",
    "mapData = np.empty((gridSize[0], gridSize[1]))\n",
    "\n",
    "rowIndex = 0 \n",
    "for line in gridData:\n",
    "    row = line.split(\" \")\n",
    "    try:\n",
    "        testVal = float(row[0]) # Ensure that the first value is a float, thus only considering values\n",
    "        for itemIndex, item in enumerate(row):\n",
    "            dataVal = float(item)\n",
    "            if (dataVal == noDataVal) or (dataVal < 0):\n",
    "                mapData[rowIndex][itemIndex]=0\n",
    "            else:\n",
    "                mapData[rowIndex][itemIndex]=dataVal\n",
    "        \n",
    "        rowIndex = rowIndex + 1\n",
    "    except ValueError:\n",
    "        pass"
   ]
  },
  {
   "cell_type": "code",
   "execution_count": 14,
   "metadata": {},
   "outputs": [],
   "source": [
    "scaleDownGrid = False\n",
    "count = 2\n",
    "\n",
    "if scaleDownGrid:\n",
    "    output = mapData.copy()\n",
    "    for i in range(count):\n",
    "        processingArray = output.copy()\n",
    "        processingArray = processingArray[processingArray.shape[0]%3:]\n",
    "        if(processingArray.shape[1]%3==1):\n",
    "            np.delete(processingArray, [0], axis=1)\n",
    "        if(processingArray.shape[1]%2==2):\n",
    "            np.delete(processingArray, [0,1], axis=1)\n",
    "        output = scaleDownArray(processingArray)\n",
    "        print(i)"
   ]
  },
  {
   "cell_type": "code",
   "execution_count": 18,
   "metadata": {},
   "outputs": [],
   "source": [
    "irradianceVals = ValueMap(gridSize, southWestPos, cellSize, noDataVal)\n",
    "irradianceVals.setGridData(mapData)"
   ]
  },
  {
   "cell_type": "code",
   "execution_count": 22,
   "metadata": {},
   "outputs": [],
   "source": [
    "irradianceVals.plot(\"gist_yarg\")"
   ]
  },
  {
   "cell_type": "code",
   "execution_count": 21,
   "metadata": {},
   "outputs": [
    {
     "data": {
      "text/plain": [
       "20627.688428999998"
      ]
     },
     "execution_count": 21,
     "metadata": {},
     "output_type": "execute_result"
    }
   ],
   "source": [
    "irradianceVals.determineValue(33.8785317,151.1392979)"
   ]
  },
  {
   "cell_type": "code",
   "execution_count": 11,
   "metadata": {},
   "outputs": [],
   "source": [
    "largestVal = 0\n",
    "largestValIndex = []\n",
    "for rowIndex, row in enumerate(mapData):\n",
    "    for elemIndex, elem in enumerate(row):\n",
    "        if(elem > largestVal) and (elem != 28384.754):\n",
    "            largestVal = elem\n",
    "            largestValIndex = [rowIndex, elemIndex]"
   ]
  }
 ],
 "metadata": {
  "kernelspec": {
   "display_name": "Python 3",
   "language": "python",
   "name": "python3"
  },
  "language_info": {
   "codemirror_mode": {
    "name": "ipython",
    "version": 3
   },
   "file_extension": ".py",
   "mimetype": "text/x-python",
   "name": "python",
   "nbconvert_exporter": "python",
   "pygments_lexer": "ipython3",
   "version": "3.6.5"
  }
 },
 "nbformat": 4,
 "nbformat_minor": 2
}
