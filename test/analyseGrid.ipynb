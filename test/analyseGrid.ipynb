{
 "cells": [
  {
   "cell_type": "code",
   "execution_count": 4,
   "metadata": {},
   "outputs": [],
   "source": [
    "import matplotlib.pyplot as plt\n",
    "import numpy as np"
   ]
  },
  {
   "cell_type": "code",
   "execution_count": 5,
   "metadata": {},
   "outputs": [],
   "source": [
    "class ValueMap:\n",
    "    def __init__(self, gridSize, southWestPos, cellSize):\n",
    "        self.gridSize = gridSize\n",
    "        self.southWestPos = southWestPos\n",
    "        self.cellSize = cellSize\n",
    "        \n",
    "        self.gridData = np.empty((gridSize[0], gridSize[1]))\n",
    "    \n",
    "    def setGridData(self, gridData):\n",
    "        self.gridData = gridData\n",
    "    \n",
    "    def determineValue(self, lattitude, longitude):\n",
    "        yIndex = self.gridData.shape[0] -  int(abs(lattitude - self.southWestPos[0]) / cellSize)\n",
    "        xIndex = int(abs(longitude - self.southWestPos[1]) / cellSize)\n",
    "        if yIndex > 0:\n",
    "            yIndex = yIndex - 1\n",
    "        if xIndex > 0:\n",
    "            xIndex = xIndex - 1\n",
    "        return self.gridData[yIndex][xIndex]\n",
    "    \n",
    "    def plot(self):\n",
    "        plt.imshow(self.gridData, cmap='jet', interpolation='nearest')\n",
    "        plt.colorbar()\n",
    "        plt.show()"
   ]
  },
  {
   "cell_type": "code",
   "execution_count": 6,
   "metadata": {},
   "outputs": [],
   "source": [
    "# Make maptlotlib show graphs in a new window\n",
    "%matplotlib qt "
   ]
  },
  {
   "cell_type": "code",
   "execution_count": 7,
   "metadata": {},
   "outputs": [],
   "source": [
    "dataDate = \"10/1/2024\" # Date of the data to be collected in format %D/%M/%Y\n",
    "\n",
    "gridData = []"
   ]
  },
  {
   "cell_type": "code",
   "execution_count": 8,
   "metadata": {},
   "outputs": [],
   "source": [
    "with open(f\"data/solarIradiance/{dataDate.replace('/', '')}.grid\", \"r\", encoding=\"utf-8\") as gridFile:\n",
    "    gridData = gridFile.readlines()\n",
    "    \n",
    "for index, line in enumerate(gridData):\n",
    "    gridData[index] = line.replace(\"\\n\", \"\")"
   ]
  },
  {
   "cell_type": "code",
   "execution_count": 9,
   "metadata": {},
   "outputs": [],
   "source": [
    "gridSize = [-1,-1]\n",
    "southWestPos = [-1,1]\n",
    "cellSize = -1\n",
    "noDataVal = -1\n",
    "for line in gridData:\n",
    "    if \"ncols\" in line:\n",
    "        gridSize[1] = int(line[line.find(\" \")+1:])\n",
    "    if \"nrows\" in line:\n",
    "        gridSize[0] = int(line[line.find(\" \")+1:])\n",
    "    if \"cellsize\" in line:\n",
    "        cellSize = float(line[line.find(\" \")+1:])\n",
    "    if \"nodata_value\" in line:\n",
    "        noDataVal = float(line[line.find(\" \")+1:])\n",
    "    if \"SOUTHWEST LATITUDE\" in line:\n",
    "        line = line.replace(\" \", \"\")\n",
    "        southWestPos[0] = float(line[line.find(\"LATITUDE\")+8:])\n",
    "    if \"SOUTHWEST LONGITUDE\" in line:\n",
    "        line = line.replace(\" \", \"\")\n",
    "        southWestPos[1] = float(line[line.find(\"LONGITUDE\")+9:])\n",
    "\n",
    "        "
   ]
  },
  {
   "cell_type": "code",
   "execution_count": 10,
   "metadata": {},
   "outputs": [],
   "source": [
    "# Put grid data into a np array\n",
    "mapData = np.empty((gridSize[0], gridSize[1]))\n",
    "\n",
    "rowIndex = 0 #  \n",
    "for line in gridData:\n",
    "    row = line.split(\" \")\n",
    "    try:\n",
    "        testVal = float(row[0]) # Ensure that the first value is a float, thus only considering values\n",
    "        for itemIndex, item in enumerate(row):\n",
    "            dataVal = float(item)\n",
    "            if dataVal == noDataVal:\n",
    "                mapData[rowIndex][itemIndex]=0\n",
    "            else:\n",
    "                mapData[rowIndex][itemIndex]=dataVal\n",
    "        \n",
    "        rowIndex = rowIndex + 1\n",
    "    except ValueError:\n",
    "        pass\n",
    "\n",
    "irradianceVals = ValueMap(gridSize, southWestPos, cellSize)\n",
    "irradianceVals.setGridData(mapData)"
   ]
  },
  {
   "cell_type": "code",
   "execution_count": 14,
   "metadata": {},
   "outputs": [
    {
     "data": {
      "text/plain": [
       "17.77"
      ]
     },
     "execution_count": 14,
     "metadata": {},
     "output_type": "execute_result"
    }
   ],
   "source": [
    "irradianceVals.determineValue(10.871634, 142.0799)"
   ]
  },
  {
   "cell_type": "code",
   "execution_count": 15,
   "metadata": {},
   "outputs": [],
   "source": [
    "irradianceVals.plot()"
   ]
  },
  {
   "cell_type": "code",
   "execution_count": null,
   "metadata": {},
   "outputs": [],
   "source": []
  }
 ],
 "metadata": {
  "kernelspec": {
   "display_name": "Python 3",
   "language": "python",
   "name": "python3"
  },
  "language_info": {
   "codemirror_mode": {
    "name": "ipython",
    "version": 3
   },
   "file_extension": ".py",
   "mimetype": "text/x-python",
   "name": "python",
   "nbconvert_exporter": "python",
   "pygments_lexer": "ipython3",
   "version": "3.6.5"
  }
 },
 "nbformat": 4,
 "nbformat_minor": 2
}
