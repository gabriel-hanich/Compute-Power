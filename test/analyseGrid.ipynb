{
 "cells": [
  {
   "cell_type": "code",
   "execution_count": 1,
   "metadata": {},
   "outputs": [],
   "source": [
    "import matplotlib.pyplot as plt\n",
    "import matplotlib.path as mplPath\n",
    "import numpy as np\n",
    "import math\n",
    "from valueMaps import ValueMap\n",
    "from func import readGridDataFromFile"
   ]
  },
  {
   "cell_type": "code",
   "execution_count": 2,
   "metadata": {},
   "outputs": [],
   "source": [
    "def scaleDownArray(array):\n",
    "    offsets = [-1,0,1]\n",
    "    \n",
    "    smallArray = np.empty((round(array.shape[0]/3), round(array.shape[1]/3)))\n",
    "    largeArray = array.copy()\n",
    "    for rowIndex in range(math.floor(largeArray.shape[0] / 3)):\n",
    "        for columnIndex in range(math.floor(largeArray.shape[1]/3)):\n",
    "            val = 0\n",
    "            for i in offsets:\n",
    "                for j in offsets:\n",
    "                    val = val + largeArray[(rowIndex)*3+i+1][(columnIndex)*3+j+1]\n",
    "            smallArray[rowIndex][columnIndex] = val\n",
    "    return smallArray"
   ]
  },
  {
   "cell_type": "code",
   "execution_count": 3,
   "metadata": {},
   "outputs": [],
   "source": [
    "# Make maptlotlib show graphs in a new window\n",
    "%matplotlib qt "
   ]
  },
  {
   "cell_type": "code",
   "execution_count": 29,
   "metadata": {},
   "outputs": [],
   "source": [
    "dataDate = \"10/07/2023\" # Date of the data to be collected in format %D/%M/%Y\n",
    "dataType = \"density\" # \"irradiance\" OR \"temperature\" OR \"density\" OR \"pressure\" OR \"rainfall\"\n",
    "gridData = []\n",
    "units = {\"temperature\": \"Celcius\", \"irradiance\": \"MJ/m^2\", \"pressure\": \"hPa\", \"rainfall\": \"mm\", \"density\": \"count\"}"
   ]
  },
  {
   "cell_type": "code",
   "execution_count": 30,
   "metadata": {},
   "outputs": [],
   "source": [
    "if dataType != \"density\":\n",
    "    path = f\"../main/data/{dataType}/{dataDate.replace('/', '.')}.grid\"\n",
    "else: \n",
    "    path = f\"../main/data/density/normalizedDensity.grid\"\n",
    "gridData = readGridDataFromFile(path)\n"
   ]
  },
  {
   "cell_type": "code",
   "execution_count": 31,
   "metadata": {},
   "outputs": [],
   "source": [
    "scaleDownGrid = False\n",
    "count = 2\n",
    "\n",
    "if scaleDownGrid:\n",
    "    output = mapData.copy()\n",
    "    for i in range(count):\n",
    "        processingArray = output.copy()\n",
    "        processingArray = processingArray[processingArray.shape[0]%3:]\n",
    "        if(processingArray.shape[1]%3==1):\n",
    "            np.delete(processingArray, [0], axis=1)\n",
    "        if(processingArray.shape[1]%2==2):\n",
    "            np.delete(processingArray, [0,1], axis=1)\n",
    "        output = scaleDownArray(processingArray)"
   ]
  },
  {
   "cell_type": "code",
   "execution_count": 32,
   "metadata": {},
   "outputs": [],
   "source": [
    "gridVals = ValueMap(\n",
    "    gridData[\"gridSize\"], \n",
    "    gridData[\"southWestPos\"],\n",
    "    gridData[\"cellSize\"], \n",
    "    gridData[\"noDataVal\"], \n",
    "    units[dataType])\n",
    "\n",
    "southWestPos = gridData[\"southWestPos\"]\n",
    "gridSize = gridData[\"gridSize\"]\n",
    "cellSize = gridData[\"cellSize\"]\n",
    "\n",
    "gridVals.setGridData(gridData[\"mapData\"])"
   ]
  },
  {
   "cell_type": "code",
   "execution_count": 34,
   "metadata": {},
   "outputs": [
    {
     "data": {
      "text/plain": [
       "(455, 822)"
      ]
     },
     "execution_count": 34,
     "metadata": {},
     "output_type": "execute_result"
    }
   ],
   "source": [
    "gridVals.gridData.shape"
   ]
  },
  {
   "cell_type": "code",
   "execution_count": null,
   "metadata": {},
   "outputs": [],
   "source": []
  }
 ],
 "metadata": {
  "kernelspec": {
   "display_name": "Python 3",
   "language": "python",
   "name": "python3"
  },
  "language_info": {
   "codemirror_mode": {
    "name": "ipython",
    "version": 3
   },
   "file_extension": ".py",
   "mimetype": "text/x-python",
   "name": "python",
   "nbconvert_exporter": "python",
   "pygments_lexer": "ipython3",
   "version": "3.6.5"
  }
 },
 "nbformat": 4,
 "nbformat_minor": 2
}
