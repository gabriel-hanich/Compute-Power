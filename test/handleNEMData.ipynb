{
 "cells": [
  {
   "cell_type": "code",
   "execution_count": 1,
   "metadata": {},
   "outputs": [],
   "source": [
    "import matplotlib.pyplot as plt\n",
    "import json\n",
    "from datetime import datetime, timedelta\n",
    "from collections import Counter"
   ]
  },
  {
   "cell_type": "code",
   "execution_count": 2,
   "metadata": {},
   "outputs": [],
   "source": [
    "def getDateList(startDate, endDate, delta=1):\n",
    "    # Get a list of dates between 2 dates (inclusive)\n",
    "    dateList = []\n",
    "    currentDate = startDate\n",
    "    while currentDate <= endDate:\n",
    "        dateList.append(currentDate)\n",
    "        currentDate += timedelta(days=delta)\n",
    "    return dateList"
   ]
  },
  {
   "cell_type": "code",
   "execution_count": 3,
   "metadata": {},
   "outputs": [],
   "source": [
    "startDate = \"01/01/2019\"\n",
    "endDate = \"31/03/2024\"\n",
    "\n",
    "labels = [\"date\"]\n",
    "data = []\n",
    "\n",
    "startDate = datetime.strptime(startDate, \"%d/%m/%Y\")\n",
    "endDate = datetime.strptime(endDate, \"%d/%m/%Y\")"
   ]
  },
  {
   "cell_type": "code",
   "execution_count": 4,
   "metadata": {},
   "outputs": [],
   "source": [
    "yearList = list(year+startDate.year for year in range(endDate.year - startDate.year+1))\n",
    "labels = [\"date\"]\n",
    "dataArr = {}\n",
    "\n",
    "for yearIndex, year in enumerate(yearList):\n",
    "    with open(f\"./data/grid/generation/{year}.json\", \"r\") as yearFile:\n",
    "        yearData = json.load(yearFile)[\"data\"]\n",
    "    \n",
    "    for rowIndex, row in enumerate(yearData):\n",
    "        if f\"{row['id']} ({row['units']})\" not in labels:\n",
    "            labels.append(f\"{row['id']} ({row['units']})\")\n",
    "            \n",
    "        try:\n",
    "            dataArr[f\"{row['id']} ({row['units']})\"] = dataArr[f\"{row['id']} ({row['units']})\"] + row[\"history\"][\"data\"]\n",
    "        except KeyError:\n",
    "            dataArr[f\"{row['id']} ({row['units']})\"] = row[\"history\"][\"data\"]\n",
    "                \n",
    "        "
   ]
  },
  {
   "cell_type": "code",
   "execution_count": 5,
   "metadata": {},
   "outputs": [
    {
     "name": "stdout",
     "output_type": "stream",
     "text": [
      "Not enough data points for 2019 au.nem.nsw1.fuel_tech.bioenergy_biogas.emissions (tCO2e)\n",
      "Not enough data points for 2019 au.nem.nsw1.fuel_tech.bioenergy_biogas.energy (GWh)\n",
      "Not enough data points for 2019 au.nem.nsw1.fuel_tech.bioenergy_biogas.market_value (AUD)\n",
      "Not enough data points for 2020 au.nem.nsw1.fuel_tech.bioenergy_biogas.emissions (tCO2e)\n",
      "Not enough data points for 2020 au.nem.nsw1.fuel_tech.bioenergy_biogas.energy (GWh)\n",
      "Not enough data points for 2020 au.nem.nsw1.fuel_tech.bioenergy_biogas.market_value (AUD)\n",
      "Not enough data points for 2021 au.nem.nsw1.fuel_tech.bioenergy_biogas.emissions (tCO2e)\n",
      "Not enough data points for 2021 au.nem.nsw1.fuel_tech.bioenergy_biogas.energy (GWh)\n",
      "Not enough data points for 2021 au.nem.nsw1.fuel_tech.bioenergy_biogas.market_value (AUD)\n",
      "Not enough data points for 2022 au.nem.nsw1.fuel_tech.bioenergy_biogas.emissions (tCO2e)\n",
      "Not enough data points for 2022 au.nem.nsw1.fuel_tech.bioenergy_biogas.energy (GWh)\n",
      "Not enough data points for 2022 au.nem.nsw1.fuel_tech.bioenergy_biogas.market_value (AUD)\n",
      "Not enough data points for 2022 au.nem.nsw1.fuel_tech.battery_charging.energy (GWh)\n",
      "Not enough data points for 2022 au.nem.nsw1.fuel_tech.battery_charging.market_value (AUD)\n",
      "Not enough data points for 2022 au.nem.nsw1.fuel_tech.battery_discharging.energy (GWh)\n",
      "Not enough data points for 2022 au.nem.nsw1.fuel_tech.battery_discharging.market_value (AUD)\n",
      "Not enough data points for 2023 au.nem.nsw1.fuel_tech.battery_charging.energy (GWh)\n",
      "Not enough data points for 2023 au.nem.nsw1.fuel_tech.battery_charging.market_value (AUD)\n",
      "Not enough data points for 2023 au.nem.nsw1.fuel_tech.battery_discharging.energy (GWh)\n",
      "Not enough data points for 2023 au.nem.nsw1.fuel_tech.battery_discharging.market_value (AUD)\n",
      "Not enough data points for 2023 au.nem.nsw1.fuel_tech.bioenergy_biogas.emissions (tCO2e)\n",
      "Not enough data points for 2023 au.nem.nsw1.fuel_tech.bioenergy_biogas.energy (GWh)\n",
      "Not enough data points for 2023 au.nem.nsw1.fuel_tech.bioenergy_biogas.market_value (AUD)\n",
      "Not enough data points for 2024 au.nem.nsw1.fuel_tech.battery_charging.energy (GWh)\n",
      "Not enough data points for 2024 au.nem.nsw1.fuel_tech.battery_charging.market_value (AUD)\n",
      "Not enough data points for 2024 au.nem.nsw1.fuel_tech.battery_discharging.energy (GWh)\n",
      "Not enough data points for 2024 au.nem.nsw1.fuel_tech.battery_discharging.market_value (AUD)\n",
      "Not enough data points for 2024 au.nem.nsw1.fuel_tech.bioenergy_biogas.emissions (tCO2e)\n",
      "Not enough data points for 2024 au.nem.nsw1.fuel_tech.bioenergy_biogas.energy (GWh)\n",
      "Not enough data points for 2024 au.nem.nsw1.fuel_tech.bioenergy_biogas.market_value (AUD)\n"
     ]
    }
   ],
   "source": [
    "missingList = []\n",
    "with open(\"./data/grid/generation/generation.csv\", \"w\") as outputFile:\n",
    "    outputFile.write(\",\".join(labels) + \"\\n\")\n",
    "    for dateIndex, date in enumerate(getDateList(startDate, endDate)):\n",
    "        row = [date.strftime(\"%d/%m/%Y\")]\n",
    "        for label in labels:\n",
    "            if label != \"date\":\n",
    "                try:\n",
    "                    row.append(str(dataArr[label][dateIndex]))\n",
    "                except IndexError:\n",
    "                    if f\"{date.year} {label}\" not in missingList:\n",
    "                        print(f\"Not enough data points for {date.year} {label}\")\n",
    "                        missingList.append(f\"{date.year} {label}\")\n",
    "                    row.append(\"0\")\n",
    "        outputFile.write(\",\".join(row) + \"\\n\")"
   ]
  },
  {
   "cell_type": "code",
   "execution_count": 6,
   "metadata": {},
   "outputs": [
    {
     "data": {
      "text/plain": [
       "41"
      ]
     },
     "execution_count": 6,
     "metadata": {},
     "output_type": "execute_result"
    }
   ],
   "source": [
    "len(labels)"
   ]
  },
  {
   "cell_type": "code",
   "execution_count": null,
   "metadata": {},
   "outputs": [],
   "source": [
    "41"
   ]
  }
 ],
 "metadata": {
  "kernelspec": {
   "display_name": "Python 3",
   "language": "python",
   "name": "python3"
  },
  "language_info": {
   "codemirror_mode": {
    "name": "ipython",
    "version": 3
   },
   "file_extension": ".py",
   "mimetype": "text/x-python",
   "name": "python",
   "nbconvert_exporter": "python",
   "pygments_lexer": "ipython3",
   "version": "3.6.5"
  }
 },
 "nbformat": 4,
 "nbformat_minor": 5
}
