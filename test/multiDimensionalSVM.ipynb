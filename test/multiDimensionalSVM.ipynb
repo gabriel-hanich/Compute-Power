{
 "cells": [
  {
   "cell_type": "code",
   "execution_count": 134,
   "metadata": {},
   "outputs": [],
   "source": [
    "# Imports\n",
    "import matplotlib.pyplot as plt\n",
    "from mpl_toolkits import mplot3d\n",
    "from sklearn.preprocessing import StandardScaler\n",
    "from sklearn.svm import SVR\n",
    "import numpy as np"
   ]
  },
  {
   "cell_type": "code",
   "execution_count": 135,
   "metadata": {},
   "outputs": [],
   "source": [
    "def predict(xValue, scalerX, scalerY, svr):\n",
    "    return scalerY.inverse_transform([svr.predict(scalerX.transform([xValue]))])"
   ]
  },
  {
   "cell_type": "code",
   "execution_count": 136,
   "metadata": {},
   "outputs": [],
   "source": [
    "# Make maptlotlib show graphs in a new window\n",
    "%matplotlib qt "
   ]
  },
  {
   "cell_type": "code",
   "execution_count": 137,
   "metadata": {},
   "outputs": [],
   "source": [
    "startX = -10\n",
    "endX = 10\n",
    "pointCount = 1000\n",
    "dimensionCount = 3\n",
    "\n",
    "trainingData = np.empty((pointCount, dimensionCount))\n",
    "formula = [\"-(1-2*x)**2 + 1\", \"x**3\"]"
   ]
  },
  {
   "cell_type": "code",
   "execution_count": 138,
   "metadata": {},
   "outputs": [],
   "source": [
    "for i in range(pointCount):\n",
    "    x = startX + ((endX-startX) / pointCount) * i\n",
    "    trainingData[i][0] = x\n",
    "    for dimensionNumber in range(dimensionCount - 1):\n",
    "        trainingData[i][dimensionNumber+1] = eval(formula[dimensionNumber])\n"
   ]
  },
  {
   "cell_type": "code",
   "execution_count": 139,
   "metadata": {},
   "outputs": [],
   "source": [
    "xData = np.empty((pointCount, dimensionCount-1))\n",
    "yData = np.empty((pointCount, 1))\n",
    "for i in range(pointCount):\n",
    "    thisRow = []\n",
    "    for dimensionNumber in range(dimensionCount - 1):\n",
    "        xData[i][dimensionNumber] = trainingData[i][dimensionNumber]\n",
    "    yData[i] = trainingData[i][dimensionCount-1]"
   ]
  },
  {
   "cell_type": "code",
   "execution_count": 140,
   "metadata": {},
   "outputs": [],
   "source": [
    "scalerX = StandardScaler()\n",
    "scalerY = StandardScaler()\n",
    "scaledXData = scalerX.fit_transform(xData)\n",
    "scaledYData = scalerY.fit_transform(yData)"
   ]
  },
  {
   "cell_type": "code",
   "execution_count": 141,
   "metadata": {},
   "outputs": [
    {
     "data": {
      "text/plain": [
       "SVR(C=1.0, cache_size=200, coef0=0.0, degree=3, epsilon=0.1, gamma='auto',\n",
       "  kernel='rbf', max_iter=-1, shrinking=True, tol=0.001, verbose=False)"
      ]
     },
     "execution_count": 141,
     "metadata": {},
     "output_type": "execute_result"
    }
   ],
   "source": [
    "# Train Model\n",
    "svr = SVR(kernel=\"rbf\")\n",
    "svr.fit(scaledXData, scaledYData.ravel())\n"
   ]
  },
  {
   "cell_type": "code",
   "execution_count": 142,
   "metadata": {},
   "outputs": [],
   "source": [
    "predYVals = np.empty((pointCount, 1))\n",
    "for i in range(pointCount):\n",
    "    xVals = xData[i]\n",
    "    xVals[1] = xVals[1]\n",
    "    predYVals[i] = predict(xVals, scalerX, scalerY, svr).flatten()"
   ]
  },
  {
   "cell_type": "code",
   "execution_count": 143,
   "metadata": {},
   "outputs": [
    {
     "data": {
      "text/plain": [
       "<matplotlib.legend.Legend at 0x28009816ac8>"
      ]
     },
     "execution_count": 143,
     "metadata": {},
     "output_type": "execute_result"
    }
   ],
   "source": [
    "fig = plt.figure()\n",
    "ax = plt.axes(projection='3d')\n",
    "\n",
    "ax.plot3D(xData[:,0].flatten(), xData[:,1].flatten(), yData.flatten(), label=\"Training Data\")\n",
    "ax.plot3D(xData[:,0].flatten(), xData[:,1].flatten(), predYVals.flatten(), label=\"Predicted Data\")\n",
    "\n",
    "ax.set_xlabel(\"X\")\n",
    "ax.set_ylabel(\"Y\")\n",
    "ax.set_zlabel(\"Z\")\n",
    "ax.legend()"
   ]
  },
  {
   "cell_type": "code",
   "execution_count": 125,
   "metadata": {},
   "outputs": [],
   "source": [
    "\n"
   ]
  },
  {
   "cell_type": "code",
   "execution_count": null,
   "metadata": {},
   "outputs": [],
   "source": []
  }
 ],
 "metadata": {
  "kernelspec": {
   "display_name": "Python 3",
   "language": "python",
   "name": "python3"
  },
  "language_info": {
   "codemirror_mode": {
    "name": "ipython",
    "version": 3
   },
   "file_extension": ".py",
   "mimetype": "text/x-python",
   "name": "python",
   "nbconvert_exporter": "python",
   "pygments_lexer": "ipython3",
   "version": "3.6.5"
  }
 },
 "nbformat": 4,
 "nbformat_minor": 2
}
