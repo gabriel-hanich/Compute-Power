{
 "cells": [
  {
   "cell_type": "code",
   "execution_count": 1,
   "metadata": {},
   "outputs": [],
   "source": [
    "# Imports\n",
    "import matplotlib.pyplot as plt\n",
    "from sklearn.preprocessing import StandardScaler\n",
    "from sklearn.svm import SVR\n",
    "import numpy as np"
   ]
  },
  {
   "cell_type": "code",
   "execution_count": 2,
   "metadata": {},
   "outputs": [],
   "source": [
    "# Make maptlotlib show graphs in a new window\n",
    "%matplotlib qt "
   ]
  },
  {
   "cell_type": "code",
   "execution_count": 3,
   "metadata": {},
   "outputs": [],
   "source": [
    "# Parameters\n",
    "startX = -3 # Smallest x Value\n",
    "endX = 5 # Largest X Value\n",
    "pointCount = 1000 # Number of values between startX and endX (number of pairs)\n",
    "dimensionCount = 3\n",
    "trainingPairs= np.empty((pointCount,dimensionCount))\n"
   ]
  },
  {
   "cell_type": "code",
   "execution_count": 4,
   "metadata": {},
   "outputs": [],
   "source": [
    "def predict(xValue, scalerX, scalerY, svr):\n",
    "    return scalerY.inverse_transform(svr.predict(scalerX.transform(xValue)))"
   ]
  },
  {
   "cell_type": "code",
   "execution_count": 5,
   "metadata": {},
   "outputs": [
    {
     "ename": "SyntaxError",
     "evalue": "invalid syntax (<ipython-input-5-438c225dd3e8>, line 4)",
     "output_type": "error",
     "traceback": [
      "\u001b[1;36m  File \u001b[1;32m\"<ipython-input-5-438c225dd3e8>\"\u001b[1;36m, line \u001b[1;32m4\u001b[0m\n\u001b[1;33m    y = (x-1)(x-2)(x+)\u001b[0m\n\u001b[1;37m                     ^\u001b[0m\n\u001b[1;31mSyntaxError\u001b[0m\u001b[1;31m:\u001b[0m invalid syntax\n"
     ]
    }
   ],
   "source": [
    "for i in range(pointCount):\n",
    "    x = startX + ((endX-startX) / pointCount) * i\n",
    "#     y = -(1-2*x)**2 + 1\n",
    "    y = (x-1)(x-2)(x+)\n",
    "    trainingPairs[i][0] = x\n",
    "    trainingPairs[i][1] = y\n",
    "    \n",
    "xVals, yVals, zVals = np.empty((pointCount,1)), np.empty((pointCount,1)), np.empty((pointCount,2))\n",
    "for index, value in enumerate(trainingPairs):\n",
    "    xVals[index] = value[0]\n",
    "    yVals[index] = value[1]"
   ]
  },
  {
   "cell_type": "code",
   "execution_count": 117,
   "metadata": {},
   "outputs": [],
   "source": [
    "scalerX = StandardScaler()\n",
    "scalerY = StandardScaler()\n",
    "X = scalerX.fit_transform(xVals)\n",
    "Y = scalerY.fit_transform(yVals)"
   ]
  },
  {
   "cell_type": "code",
   "execution_count": 118,
   "metadata": {},
   "outputs": [
    {
     "data": {
      "text/plain": [
       "SVR(C=1.0, cache_size=200, coef0=0.0, degree=3, epsilon=0.1, gamma='auto',\n",
       "  kernel='rbf', max_iter=-1, shrinking=True, tol=0.001, verbose=False)"
      ]
     },
     "execution_count": 118,
     "metadata": {},
     "output_type": "execute_result"
    }
   ],
   "source": [
    "# create an SVR model with a linear kernel \n",
    "svr = SVR(kernel='rbf') \n",
    "  \n",
    "# train the model on the data \n",
    "svr.fit(X, Y.ravel()) "
   ]
  },
  {
   "cell_type": "code",
   "execution_count": 120,
   "metadata": {},
   "outputs": [],
   "source": [
    "trainingData = []\n",
    "predictedData = []\n",
    "x = []\n",
    "\n",
    "for index, val in enumerate(yVals):\n",
    "    xVal = startX + ((endX-startX) / pointCount) * index\n",
    "    trainingData.append(val)\n",
    "    predictedData.append(predict(xVal, scalerX, scalerY, svr))\n",
    "    x.append(xVal)\n",
    "\n",
    "\n",
    "plt.plot(x, trainingData, label=\"Training Data\")\n",
    "plt.plot(x, predictedData, label=\"Predicted Data\")\n",
    "plt.legend()\n",
    "plt.show()"
   ]
  },
  {
   "cell_type": "code",
   "execution_count": null,
   "metadata": {},
   "outputs": [],
   "source": []
  }
 ],
 "metadata": {
  "kernelspec": {
   "display_name": "Python 3",
   "language": "python",
   "name": "python3"
  },
  "language_info": {
   "codemirror_mode": {
    "name": "ipython",
    "version": 3
   },
   "file_extension": ".py",
   "mimetype": "text/x-python",
   "name": "python",
   "nbconvert_exporter": "python",
   "pygments_lexer": "ipython3",
   "version": "3.6.5"
  }
 },
 "nbformat": 4,
 "nbformat_minor": 2
}
