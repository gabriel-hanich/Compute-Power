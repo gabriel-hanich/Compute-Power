{
 "cells": [
  {
   "cell_type": "code",
   "execution_count": 8,
   "metadata": {},
   "outputs": [],
   "source": [
    "import requests\n",
    "import unlzw3 as unlzw\n",
    "from datetime import datetime"
   ]
  },
  {
   "cell_type": "code",
   "execution_count": 11,
   "metadata": {},
   "outputs": [],
   "source": [
    "def getDataURL(dataDate, dataType):\n",
    "    downloadDate = dataDate.strftime(\"%Y%m%d%Y%m%d\")\n",
    "    if dataType == \"irradiance\":\n",
    "        return f\"http://www.bom.gov.au/web03/ncc/www/awap/solar/solarave/daily/grid/0.05/history/nat/{downloadDate}.grid.Z\"\n",
    "    if dataType == \"temperature\":\n",
    "        return f\"http://www.bom.gov.au/web03/ncc/www/awap/temperature/maxave/daily/grid/0.05//history/nat/{downloadDate}.grid.Z\""
   ]
  },
  {
   "cell_type": "code",
   "execution_count": 23,
   "metadata": {},
   "outputs": [],
   "source": [
    "# Constants\n",
    "dataDate = \"10/1/2024\" # Date of the data to be collected in format %D/%M/%Y\n",
    "dataType = \"irradiance\" # \"irradiance OR temperature\"\n",
    "\n",
    "\n",
    "dataDate = datetime.strptime(dataDate, \"%d/%m/%Y\")"
   ]
  },
  {
   "cell_type": "code",
   "execution_count": 24,
   "metadata": {},
   "outputs": [],
   "source": [
    "\n",
    "url = getDataURL(dataDate, dataType)\n",
    "headers = {\"User-Agent\": \"Mozilla/5.0 (X11; Linux x86_64) AppleWebKit/537.36 (KHTML, like Gecko) Chrome/88.0.4324.96 Safari/537.36\"}\n"
   ]
  },
  {
   "cell_type": "code",
   "execution_count": 25,
   "metadata": {},
   "outputs": [],
   "source": [
    "# Download the data and write it to a file\n",
    "res = requests.get(url, headers=headers, stream=True)\n",
    "data = unlzw.unlzw(res.content).decode(\"utf-8\")\n"
   ]
  },
  {
   "cell_type": "code",
   "execution_count": 26,
   "metadata": {},
   "outputs": [],
   "source": [
    "splitData = data.split(\"\\n\")"
   ]
  },
  {
   "cell_type": "code",
   "execution_count": 28,
   "metadata": {},
   "outputs": [
    {
     "name": "stdout",
     "output_type": "stream",
     "text": [
      "Done\n"
     ]
    }
   ],
   "source": [
    "with open(f\"data/{dataType}/{dataDate.strftime('%d.%m.%Y')}.grid\", \"w\", encoding='utf-8') as outputFile:\n",
    "    outputFile.writelines([string.strip() + '\\n' for string in splitData])\n",
    "print(\"Done\")"
   ]
  },
  {
   "cell_type": "code",
   "execution_count": null,
   "metadata": {},
   "outputs": [],
   "source": []
  }
 ],
 "metadata": {
  "kernelspec": {
   "display_name": "Python 3",
   "language": "python",
   "name": "python3"
  },
  "language_info": {
   "codemirror_mode": {
    "name": "ipython",
    "version": 3
   },
   "file_extension": ".py",
   "mimetype": "text/x-python",
   "name": "python",
   "nbconvert_exporter": "python",
   "pygments_lexer": "ipython3",
   "version": "3.7.6"
  }
 },
 "nbformat": 4,
 "nbformat_minor": 4
}
