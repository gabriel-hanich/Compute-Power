{
 "cells": [
  {
   "cell_type": "code",
   "execution_count": 7,
   "metadata": {},
   "outputs": [],
   "source": [
    "import matplotlib.pyplot as plt\n",
    "from sklearn.preprocessing import StandardScaler\n",
    "from sklearn.svm import SVR\n",
    "import numpy as np\n",
    "from datetime import datetime\n",
    "from datetime import timedelta"
   ]
  },
  {
   "cell_type": "code",
   "execution_count": 5,
   "metadata": {},
   "outputs": [],
   "source": [
    "# Make maptlotlib show graphs in a new window\n",
    "%matplotlib qt "
   ]
  },
  {
   "cell_type": "code",
   "execution_count": 105,
   "metadata": {},
   "outputs": [],
   "source": [
    "startDate = \"01/01/2023\"\n",
    "endDate = \"31/01/2023\"\n",
    "\n",
    "climateVarCount = 4 # The number of climate variables inputted\n",
    "\n",
    "startDate = datetime.strptime(startDate, \"%d/%m/%Y\")\n",
    "endDate = datetime.strptime(endDate, \"%d/%m/%Y\")\n",
    "\n",
    "climateEnergyData = np.empty(((endDate-startDate).days+1,climateVarCount+2))\n",
    "solarData = np.empty(((endDate-startDate).days+1, 2))"
   ]
  },
  {
   "cell_type": "code",
   "execution_count": 127,
   "metadata": {},
   "outputs": [],
   "source": [
    "# Load Climate data from .csv\n",
    "dataLabels = []\n",
    "with open(\"../main/data/processed/testClimate.csv\", \"r\", encoding=\"utf-8\") as climateFile:\n",
    "    for rowIndex, row in enumerate(climateFile.readlines()):\n",
    "        row = row.replace(\"\\n\", \"\")\n",
    "        row = row.split(\",\")\n",
    "        if rowIndex == 0:\n",
    "            dataLabels= row[0:]\n",
    "        else:\n",
    "            row[0] = datetime.strptime(row[0], \"%d/%m/%Y\").timestamp()\n",
    "            row.append(0)\n",
    "            for elemIndex, elem in enumerate(row):\n",
    "                row[elemIndex] = float(elem)"
   ]
  },
  {
   "cell_type": "code",
   "execution_count": 128,
   "metadata": {},
   "outputs": [],
   "source": [
    "# Load Power Generation data from .csv\n",
    "rowsAdded = 0\n",
    "with open(\"../main/data/grid/solar/myHouse.csv\", \"r\", encoding=\"utf-8\") as solarFile:\n",
    "    for rowIndex, row in enumerate(solarFile.readlines()):\n",
    "        row = row.replace(\"\\n\", \"\")\n",
    "        row = row.split(\",\")\n",
    "        if rowIndex == 0:\n",
    "            dataLabels.append(row[1])\n",
    "        else:\n",
    "            rowDate = datetime.strptime(row[0], \"%d/%m/%Y\")\n",
    "            if rowDate >= startDate and rowDate <= endDate:\n",
    "                solarData[rowsAdded][0] = rowDate.timestamp()\n",
    "                solarData[rowsAdded][1] = float(row[1])\n",
    "                rowsAdded += 1"
   ]
  },
  {
   "cell_type": "code",
   "execution_count": 129,
   "metadata": {},
   "outputs": [],
   "source": [
    "# Combine power and climate data into new numpy array \n",
    "for climateIndex, climateRow in enumerate(climateEnergyData):\n",
    "    for solarRow in solarData:\n",
    "        if solarRow[0] == climateRow[0]:\n",
    "            climateEnergyData[climateIndex][5] = solarRow[1]"
   ]
  },
  {
   "cell_type": "code",
   "execution_count": 158,
   "metadata": {},
   "outputs": [
    {
     "data": {
      "text/plain": [
       "<matplotlib.collections.PathCollection at 0x1c69a6c79b0>"
      ]
     },
     "execution_count": 158,
     "metadata": {},
     "output_type": "execute_result"
    }
   ],
   "source": [
    "xIndex = 4\n",
    "yIndex = 5\n",
    "X = climateEnergyData[:,xIndex]\n",
    "Y = climateEnergyData[:,yIndex]\n",
    "\n",
    "plt.xlabel(dataLabels[xIndex])\n",
    "plt.ylabel(dataLabels[yIndex])\n",
    "\n",
    "plt.scatter(X,Y)"
   ]
  },
  {
   "cell_type": "code",
   "execution_count": null,
   "metadata": {},
   "outputs": [],
   "source": []
  }
 ],
 "metadata": {
  "kernelspec": {
   "display_name": "Python 3",
   "language": "python",
   "name": "python3"
  },
  "language_info": {
   "codemirror_mode": {
    "name": "ipython",
    "version": 3
   },
   "file_extension": ".py",
   "mimetype": "text/x-python",
   "name": "python",
   "nbconvert_exporter": "python",
   "pygments_lexer": "ipython3",
   "version": "3.6.5"
  }
 },
 "nbformat": 4,
 "nbformat_minor": 2
}
