{
 "cells": [
  {
   "cell_type": "markdown",
   "metadata": {},
   "source": [
    "# Convert raw wind data into daily averages with direction"
   ]
  },
  {
   "cell_type": "code",
   "execution_count": 1,
   "metadata": {},
   "outputs": [],
   "source": [
    "import matplotlib.pyplot as plt\n",
    "import numpy as np\n",
    "from datetime import datetime, timedelta\n",
    "import math"
   ]
  },
  {
   "cell_type": "code",
   "execution_count": 2,
   "metadata": {},
   "outputs": [],
   "source": [
    "def getDateList(startDate, endDate, delta=1):\n",
    "    # Get a list of dates between 2 dates (inclusive)\n",
    "    dateList = []\n",
    "    currentDate = startDate\n",
    "    while currentDate <= endDate:\n",
    "        dateList.append(currentDate)\n",
    "        currentDate += timedelta(days=delta)\n",
    "    return dateList\n",
    "\n",
    "def calculateMean(vals):\n",
    "    return sum(vals)/len(vals)\n",
    "\n",
    "def pythag(a, b):\n",
    "    return (a**2+b**2)**0.5\n",
    "\n",
    "def calculateWindAngle(u, v):\n",
    "    # Calculates the angle (deg) the wind is GOING using U and V components\n",
    "    if (u>0 and v>0):\n",
    "        return math.atan(u/v) * (180/math.pi)\n",
    "    elif (u>0 and v<0):\n",
    "        return 90 + math.atan(abs(v)/u) * (180/math.pi) \n",
    "    elif (u<0 and v<0):\n",
    "        return 180 + math.atan(abs(u)/abs(v)) * (180/math.pi)\n",
    "    elif (u<0 and v>0):\n",
    "        return 270 + math.atan(v/abs(u)) * (180/math.pi)\n",
    "\n",
    "    # Zero Cases\n",
    "    if(u==0 and v==0):\n",
    "        return 0\n",
    "    elif(u==0 and not v==0):\n",
    "        if v>0:\n",
    "            return 0\n",
    "        else:\n",
    "            return 180\n",
    "    elif(not u==0 and v==0):\n",
    "        if u>0:\n",
    "            return 90\n",
    "        else:\n",
    "            return 270\n"
   ]
  },
  {
   "cell_type": "code",
   "execution_count": 3,
   "metadata": {},
   "outputs": [],
   "source": [
    "dataFilePath = \"./data/wind/raw/windData.csv\"\n",
    "startDate = \"01/01/2019:00:00:00\" # The starting date (note that it assume the dataset begins at midnight)\n",
    "temporalResolution = 1 # Number of hours between each value\n",
    "\n",
    "startDate = datetime.strptime(startDate, \"%d/%m/%Y:%H:%M:%S\")\n",
    "\n",
    "# Output Variables\n",
    "labels = [\"date\", \"windspeed (ms^-1)\", \"u-component(ms^-1)\", \"v-component(ms^-1)\", \"angle(0deg=North)\", \"rough-direction\"]\n",
    "directionLabels = {0:\"S\", 45: \"SW\", 90: \"W\", 135: \"NW\", 180: \"N\", 225: \"NE\", 270: \"E\", 315: \"SE\"}"
   ]
  },
  {
   "cell_type": "code",
   "execution_count": 4,
   "metadata": {},
   "outputs": [],
   "source": [
    "# Load .csv and remove first row\n",
    "importArray = np.genfromtxt(dataFilePath, delimiter=\",\")\n",
    "windData = importArray[1:]"
   ]
  },
  {
   "cell_type": "code",
   "execution_count": 5,
   "metadata": {},
   "outputs": [],
   "source": [
    "# Assign each datapoint an epoch time\n",
    "startTime = startDate.timestamp()\n",
    "endTime = 0\n",
    "for rowIndex, row in enumerate(windData):\n",
    "    windData[rowIndex][0] = startTime + rowIndex * 3600\n",
    "    endTime = startTime + rowIndex * 3600\n",
    "endDate = datetime.fromtimestamp(endTime)"
   ]
  },
  {
   "cell_type": "code",
   "execution_count": 6,
   "metadata": {},
   "outputs": [],
   "source": [
    "# Create a dictionary to hold the u and v-vlaues\n",
    "dateList = getDateList(startDate, endDate)\n",
    "outputArray = np.empty((len(dateList), len(labels)-2))\n",
    "meanValues = {}\n",
    "\n",
    "for date in dateList:\n",
    "    meanValues[date.strftime(\"%d/%m/%Y\")] = {\"u-values\": [], \"v-values\": []}\n",
    "    \n",
    "# Sort each row into the correct date\n",
    "for row in windData:\n",
    "    rowDate = datetime.fromtimestamp(row[0])\n",
    "    meanValues[rowDate.strftime(\"%d/%m/%Y\")][\"u-values\"].append(row[1])\n",
    "    meanValues[rowDate.strftime(\"%d/%m/%Y\")][\"v-values\"].append(row[2])"
   ]
  },
  {
   "cell_type": "code",
   "execution_count": 7,
   "metadata": {},
   "outputs": [],
   "source": [
    "directionList = []\n",
    "for dateIndex, date in enumerate(dateList):\n",
    "    uValue = calculateMean(meanValues[date.strftime(\"%d/%m/%Y\")][\"u-values\"])\n",
    "    vValue = calculateMean(meanValues[date.strftime(\"%d/%m/%Y\")][\"v-values\"])\n",
    "    angle = calculateWindAngle(uValue, vValue)\n",
    "    outputArray[dateIndex][0] = pythag(uValue, vValue)\n",
    "    outputArray[dateIndex][1] = uValue\n",
    "    outputArray[dateIndex][2] = vValue\n",
    "    outputArray[dateIndex][3] = angle\n",
    "    \n",
    "    directionLabelAngles = list(directionLabels.keys())\n",
    "    for index, directionAngle in enumerate(directionLabelAngles):\n",
    "        try:\n",
    "            if angle >= directionAngle and angle < directionLabelAngles[index+1]:\n",
    "                directionList.append(directionLabels[directionAngle])\n",
    "        except IndexError:\n",
    "            directionList.append(\"SE\")"
   ]
  },
  {
   "cell_type": "code",
   "execution_count": 10,
   "metadata": {},
   "outputs": [],
   "source": [
    "with open(\"data\\wind\\processed\\windData.csv\", \"w\", encoding=\"utf-8\") as outputFile:\n",
    "    outputFile.write(\",\".join(labels)+\"\\n\")\n",
    "    for rowIndex, row in enumerate(outputArray):\n",
    "        outputFile.write(f\"{dateList[rowIndex].strftime('%d/%m/%Y')},{','.join([str(val) for val in row.tolist()])},{directionList[rowIndex]}\\n\")"
   ]
  },
  {
   "cell_type": "code",
   "execution_count": null,
   "metadata": {},
   "outputs": [],
   "source": []
  }
 ],
 "metadata": {
  "kernelspec": {
   "display_name": "Python 3",
   "language": "python",
   "name": "python3"
  },
  "language_info": {
   "codemirror_mode": {
    "name": "ipython",
    "version": 3
   },
   "file_extension": ".py",
   "mimetype": "text/x-python",
   "name": "python",
   "nbconvert_exporter": "python",
   "pygments_lexer": "ipython3",
   "version": "3.6.5"
  }
 },
 "nbformat": 4,
 "nbformat_minor": 2
}
