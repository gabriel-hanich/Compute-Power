{
 "cells": [
  {
   "cell_type": "code",
   "execution_count": 1,
   "metadata": {},
   "outputs": [],
   "source": [
    "# Calculate the mean value from a given .GRID file weighted according to the density data\n",
    "import matplotlib.pyplot as plt\n",
    "import matplotlib.path as mplPath\n",
    "import numpy as np\n",
    "import json\n",
    "from valueMaps import ValueMap\n",
    "from func import readGridDataFromFile"
   ]
  },
  {
   "cell_type": "code",
   "execution_count": 2,
   "metadata": {},
   "outputs": [],
   "source": [
    "# Make maptlotlib show graphs in a new window\n",
    "%matplotlib qt "
   ]
  },
  {
   "cell_type": "code",
   "execution_count": 3,
   "metadata": {},
   "outputs": [],
   "source": [
    "densityPath = \"../main/data/density/compressedDensity.grid\" # The path to the normalized density file\n",
    "profileName = \"NSW/ACT\" # The name of the profile location in `mean.json`\n",
    "dataDate = \"11/06/2023\" # Date of the data to be collected in format %D/%M/%Y\n",
    "dataType = \"irradiance\" # \"irradiance\" OR \"temperature\" OR \"density\" OR \"pressure\" OR \"rainfall\"\n",
    "units = {\"temperature\": \"Celcius\", \"irradiance\": \"MJ/m^2\", \"pressure\": \"hPa\", \"rainfall\": \"mm\", \"density\": \"count\"}"
   ]
  },
  {
   "cell_type": "code",
   "execution_count": 4,
   "metadata": {},
   "outputs": [],
   "source": [
    "# Load density data\n",
    "densityFileData = readGridDataFromFile(densityPath)\n",
    "densityData = ValueMap(\n",
    "    densityFileData[\"gridSize\"], \n",
    "    densityFileData[\"southWestPos\"],\n",
    "    densityFileData[\"cellSize\"], \n",
    "    densityFileData[\"noDataVal\"],\n",
    "    \"count\"\n",
    ")\n",
    "gridData = densityFileData[\"mapData\"]\n",
    "southWestPos = densityFileData[\"southWestPos\"]\n",
    "cellSize = densityFileData[\"cellSize\"]\n",
    "gridSize = densityFileData[\"gridSize\"]\n",
    "densityData.setGridData(densityFileData[\"mapData\"])"
   ]
  },
  {
   "cell_type": "code",
   "execution_count": 5,
   "metadata": {},
   "outputs": [],
   "source": [
    "# Load independent variable data\n",
    "independentPath = f\"../main/data/{dataType}/{dataDate.replace('/', '.')}.grid\"\n",
    "independentFileData = readGridDataFromFile(independentPath)\n",
    "independentData = ValueMap(\n",
    "    independentFileData[\"gridSize\"], \n",
    "    independentFileData[\"southWestPos\"],\n",
    "    independentFileData[\"cellSize\"], \n",
    "    independentFileData[\"noDataVal\"],\n",
    "    units[dataType]\n",
    ")\n",
    "\n",
    "independentData.setGridData(independentFileData[\"mapData\"])"
   ]
  },
  {
   "cell_type": "code",
   "execution_count": 6,
   "metadata": {},
   "outputs": [],
   "source": [
    "# Get list of density points across target area\n",
    "with open(\"../main/config/mean.json\") as meanFile:\n",
    "    meanData = json.load(meanFile)\n",
    "boundingCoords = np.array(meanData[profileName])\n",
    "\n",
    "# Convert Lat/Lon coords to list indexes\n",
    "boundingIndexes = np.empty(boundingCoords.shape)\n",
    "for coordIndex, coord in enumerate(boundingCoords):\n",
    "    boundingIndexes[coordIndex] = densityData.getCoord(coord[0], coord[1])\n",
    "\n",
    "coords = densityData.getInternalCoords(boundingIndexes)"
   ]
  },
  {
   "cell_type": "code",
   "execution_count": 7,
   "metadata": {},
   "outputs": [],
   "source": [
    "totalPopulation = 0\n",
    "independentSum = 0\n",
    "\n",
    "for coord in coords:\n",
    "    latLon =  densityData.getLatLon(coord[1], coord[0])\n",
    "    densityVal = densityData.gridData[coord[0]][coord[1]]\n",
    "    independentVal = independentData.determineValue(latLon[0], latLon[1])\n",
    "    \n",
    "    \n",
    "    \n",
    "    totalPopulation += densityVal\n",
    "    independentSum += densityVal * independentVal"
   ]
  },
  {
   "cell_type": "code",
   "execution_count": 8,
   "metadata": {},
   "outputs": [
    {
     "data": {
      "text/plain": [
       "10.959464864925781"
      ]
     },
     "execution_count": 8,
     "metadata": {},
     "output_type": "execute_result"
    }
   ],
   "source": [
    "independentSum / totalPopulation"
   ]
  },
  {
   "cell_type": "code",
   "execution_count": 4,
   "metadata": {},
   "outputs": [],
   "source": [
    "a = np.empty((3,2))"
   ]
  },
  {
   "cell_type": "code",
   "execution_count": 7,
   "metadata": {},
   "outputs": [],
   "source": [
    "a[2][0] = 1"
   ]
  },
  {
   "cell_type": "code",
   "execution_count": 8,
   "metadata": {},
   "outputs": [
    {
     "data": {
      "text/plain": [
       "array([[0., 0.],\n",
       "       [1., 0.],\n",
       "       [1., 0.]])"
      ]
     },
     "execution_count": 8,
     "metadata": {},
     "output_type": "execute_result"
    }
   ],
   "source": [
    "a"
   ]
  },
  {
   "cell_type": "code",
   "execution_count": null,
   "metadata": {},
   "outputs": [],
   "source": []
  }
 ],
 "metadata": {
  "kernelspec": {
   "display_name": "Python 3",
   "language": "python",
   "name": "python3"
  },
  "language_info": {
   "codemirror_mode": {
    "name": "ipython",
    "version": 3
   },
   "file_extension": ".py",
   "mimetype": "text/x-python",
   "name": "python",
   "nbconvert_exporter": "python",
   "pygments_lexer": "ipython3",
   "version": "3.6.5"
  }
 },
 "nbformat": 4,
 "nbformat_minor": 2
}
